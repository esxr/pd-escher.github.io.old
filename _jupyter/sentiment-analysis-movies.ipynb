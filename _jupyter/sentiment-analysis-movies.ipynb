{
 "cells": [
  {
   "cell_type": "markdown",
   "metadata": {},
   "source": [
    "# Sentiments Analysis of Movie Dialogs\n",
    "Here's my plan:\n",
    "1. Get a dataset of movie dialogs\n",
    "2. Explore Sentiment Analysis libraries, and analyze dialogs for sentiment polarity (+ve, neutral, and -ve sentiments)"
   ]
  },
  {
   "cell_type": "markdown",
   "metadata": {},
   "source": [
    "## Movie Dialog Dataset\n",
    "I am going to use this movie dialog corpus on Kaggle as my dataset of movie dialogs:  \n",
    "https://www.kaggle.com/Cornell-University/movie-dialog-corpus#movie_lines.tsv\n",
    "\n",
    "This is a tab separated file of dialogs. Each line is of following format:\n",
    "```\n",
    "L1045\tu0\tm0\tBIANCA\tThey do not!\n",
    "```\n",
    "\n",
    "I am going to use pandas to load this file.  \n",
    "Note:\n",
    "1. File has no header\n",
    "2. Seperator is tab\n",
    "3. I only want the last column (4)\n",
    "4. And I want a list of it"
   ]
  },
  {
   "cell_type": "code",
   "execution_count": 1,
   "metadata": {},
   "outputs": [],
   "source": [
    "import pandas as pd"
   ]
  },
  {
   "cell_type": "code",
   "execution_count": 2,
   "metadata": {},
   "outputs": [],
   "source": [
    "dialog_list = pd.read_csv('movie_lines.tsv', header=None, usecols=[4], sep='\\t')[4].tolist()"
   ]
  },
  {
   "cell_type": "markdown",
   "metadata": {},
   "source": [
    "## Explore Sentiment Analysis Libraries\n",
    "One kind of analysis I am going to do is related to sentiment polarity. I.e. to explore the distribution of positive, negative and neutral sentiments in movie dialogs. Several NLP libraries can be used for this. I am going to begin with the following two:\n",
    "  * TextBlob: https://textblob.readthedocs.io/en/dev/\n",
    "  * NLTK: https://www.nltk.org/\n",
    "Let me now explore them one by one"
   ]
  },
  {
   "cell_type": "markdown",
   "metadata": {},
   "source": [
    "### TextBlob"
   ]
  },
  {
   "cell_type": "code",
   "execution_count": 3,
   "metadata": {},
   "outputs": [],
   "source": [
    "from textblob import TextBlob"
   ]
  },
  {
   "cell_type": "code",
   "execution_count": 4,
   "metadata": {},
   "outputs": [],
   "source": [
    "sentiment_scores_tb = [round(TextBlob(str(dialog)).sentiment.polarity, 2)\n",
    "                       for dialog in dialog_list]\n",
    "sentiment_category_tb = ['positive' if score > 0 else 'negative' if score < 0 else 'neutral' \n",
    "                         for score in sentiment_scores_tb]"
   ]
  },
  {
   "cell_type": "markdown",
   "metadata": {},
   "source": [
    "let's plot and see now"
   ]
  },
  {
   "cell_type": "code",
   "execution_count": 5,
   "metadata": {},
   "outputs": [],
   "source": [
    "import seaborn as sns"
   ]
  },
  {
   "cell_type": "code",
   "execution_count": 6,
   "metadata": {},
   "outputs": [
    {
     "data": {
      "image/png": "[encoded data removed]",
      "text/plain": [
       "<Figure size 360x360 with 1 Axes>"
      ]
     },
     "metadata": {
      "needs_background": "light"
     },
     "output_type": "display_data"
    }
   ],
   "source": [
    "# sentiment statistics\n",
    "df_pd = pd.DataFrame([sentiment_category_tb]).T\n",
    "df_pd.columns = ['Sentiment Category']\n",
    "\n",
    "# Draw a catplot to show count by sentiment_category\n",
    "g_pd = sns.catplot(x=\"Sentiment Category\", data=df_pd, kind=\"count\")\n",
    "g_pd.set_ylabels(\"Dialog Count\")"
   ]
  },
  {
   "cell_type": "markdown",
   "metadata": {},
   "source": [
    "### NLTK\n",
    "I am going to use NLTK’s built-in Vader Sentiment Analyzer. This will simply rank a piece of text as positive, negative or neutral using a lexicon of positive and negative words."
   ]
  },
  {
   "cell_type": "code",
   "execution_count": 7,
   "metadata": {},
   "outputs": [],
   "source": [
    "import nltk\n",
    "from nltk.sentiment.vader import SentimentIntensityAnalyzer\n",
    "nltk.download('vader_lexicon')"
   ]
  },
  {
   "cell_type": "code",
   "execution_count": 8,
   "metadata": {},
   "outputs": [],
   "source": [
    "sia = SentimentIntensityAnalyzer()\n",
    "sentiment_scores_nltk = [sia.polarity_scores(str(dialog)) for dialog in dialog_list]"
   ]
  },
  {
   "cell_type": "code",
   "execution_count": 9,
   "metadata": {},
   "outputs": [],
   "source": [
    "sentiment_category_nltk = ['positive' if score['compound'] > 0.25\n",
    "                           else 'negative' if score['compound'] < -0.25\n",
    "                           else 'neutral'\n",
    "                           for score in sentiment_scores_nltk]"
   ]
  },
  {
   "cell_type": "code",
   "execution_count": 10,
   "metadata": {},
   "outputs": [
    {
     "data": {
      "text/html": [
       "<div>\n",
       "<style scoped>\n",
       "    .dataframe tbody tr th:only-of-type {\n",
       "        vertical-align: middle;\n",
       "    }\n",
       "\n",
       "    .dataframe tbody tr th {\n",
       "        vertical-align: top;\n",
       "    }\n",
       "\n",
       "    .dataframe thead th {\n",
       "        text-align: right;\n",
       "    }\n",
       "</style>\n",
       "<table border=\"1\" class=\"dataframe\">\n",
       "  <thead>\n",
       "    <tr style=\"text-align: right;\">\n",
       "      <th></th>\n",
       "      <th>Sum</th>\n",
       "    </tr>\n",
       "  </thead>\n",
       "  <tbody>\n",
       "    <tr>\n",
       "      <th>compound</th>\n",
       "      <td>11075.3443</td>\n",
       "    </tr>\n",
       "    <tr>\n",
       "      <th>neg</th>\n",
       "      <td>24022.3960</td>\n",
       "    </tr>\n",
       "    <tr>\n",
       "      <th>neu</th>\n",
       "      <td>242111.7730</td>\n",
       "    </tr>\n",
       "    <tr>\n",
       "      <th>pos</th>\n",
       "      <td>35821.8470</td>\n",
       "    </tr>\n",
       "  </tbody>\n",
       "</table>\n",
       "</div>"
      ],
      "text/plain": [
       "                  Sum\n",
       "compound   11075.3443\n",
       "neg        24022.3960\n",
       "neu       242111.7730\n",
       "pos        35821.8470"
      ]
     },
     "execution_count": 10,
     "metadata": {},
     "output_type": "execute_result"
    }
   ],
   "source": [
    "# Without placing into specifica categories (neutral, positive, negative)\n",
    "# I can just sum up the category distributions\n",
    "df_nltk_sum = pd.DataFrame(pd.DataFrame(sentiment_scores_nltk).sum())\n",
    "df_nltk_sum.columns = ['Sum']\n",
    "df_nltk_sum"
   ]
  },
  {
   "cell_type": "code",
   "execution_count": 11,
   "metadata": {},
   "outputs": [
    {
     "data": {
      "image/png": "[encoded data removed]",
      "text/plain": [
       "<Figure size 360x360 with 1 Axes>"
      ]
     },
     "metadata": {
      "needs_background": "light"
     },
     "output_type": "display_data"
    }
   ],
   "source": [
    "# sentiment statistics\n",
    "df_nltk = pd.DataFrame([sentiment_category_nltk]).T\n",
    "df_nltk.columns = ['Sentiment Category']\n",
    "\n",
    "# Draw a catplot to show count by sentiment_category\n",
    "g_nltk = sns.catplot(x=\"Sentiment Category\", data=df_nltk, kind=\"count\")\n",
    "g_nltk.set_ylabels(\"Dialog Count\")"
   ]
  }
 ],
 "metadata": {
  "kernelspec": {
   "display_name": "Python 3",
   "language": "python",
   "name": "python3"
  },
  "language_info": {
   "codemirror_mode": {
    "name": "ipython",
    "version": 3
   },
   "file_extension": ".py",
   "mimetype": "text/x-python",
   "name": "python",
   "nbconvert_exporter": "python",
   "pygments_lexer": "ipython3",
   "version": "3.6.6"
  }
 },
 "nbformat": 4,
 "nbformat_minor": 2
}
